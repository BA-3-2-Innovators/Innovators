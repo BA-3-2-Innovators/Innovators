# Cell 1: Setup paths
import os, json, joblib, pandas as pd
from sklearn.model_selection import train_test_split
from sklearn.metrics import confusion_matrix, ConfusionMatrixDisplay, roc_curve, auc
import matplotlib.pyplot as plt

DATA_PATH = "../data/Mental Health Dataset.csv"
ARTIFACT_DIR = "../output"

df = pd.read_csv(DATA_PATH)
summary = json.load(open(os.path.join(ARTIFACT_DIR, "summary.json")))

text_col = summary["text_col"]
numeric_cols = summary["numeric_cols"]

model_lr = joblib.load(os.path.join(ARTIFACT_DIR, "model_logreg_text.joblib"))
model_rf = joblib.load(os.path.join(ARTIFACT_DIR, "model_rf_combined.joblib"))

df.head()

# Cell 2: Train/test split for evaluation
X = df[[text_col] + numeric_cols].copy()
X[text_col] = X[text_col].fillna("")
y = df[summary["target_col"]]

X_train, X_test, y_train, y_test = train_test_split(X, y, test_size=0.25, stratify=y)

from sklearn.preprocessing import LabelEncoder

# Confusion Matrix for RF
y_pred_rf = model_rf.predict(X_test)

le = LabelEncoder()
y_test_enc = le.fit_transform(y_test)

# If y_pred_rf contains integers, map them back to string labels
if y_pred_rf.dtype != object:
	y_pred_rf_labels = le.classes_[y_pred_rf]
else:
	y_pred_rf_labels = y_pred_rf

y_pred_rf_enc = le.transform(y_pred_rf_labels)
cm = confusion_matrix(y_test_enc, y_pred_rf_enc)
disp = ConfusionMatrixDisplay(confusion_matrix=cm, display_labels=le.classes_)
disp.plot()
plt.title("RandomForest - Confusion Matrix")
plt.show()

# Cell 3: Multiclass ROC curve
from sklearn.preprocessing import LabelBinarizer

lb = LabelBinarizer()
y_test_bin = lb.fit_transform(y_test)
y_score = model_rf.predict_proba(X_test.fillna(0))

plt.figure(figsize=(8, 6))
# Only plot ROC for classes present in y_score
for i, class_name in enumerate(lb.classes_[:y_score.shape[1]]):
	fpr, tpr, _ = roc_curve(y_test_bin[:, i], y_score[:, i])
	roc_auc = auc(fpr, tpr)
	plt.plot(fpr, tpr, label=f"{class_name} (AUC={roc_auc:.3f})")

plt.plot([0, 1], [0, 1], 'k--')
plt.xlabel("False Positive Rate")
plt.ylabel("True Positive Rate")
plt.title("Multiclass ROC Curve")
plt.legend()
plt.show()

# Cell 4: Sample predictions
sample_texts = [
    "I'm exhausted and can't handle the workload anymore.",
    "Work is fine, I enjoy my team and projects.",
    "I feel stressed and having panic attacks at work."
]
for t in sample_texts:
    print("LR:", t, "->", model_lr.predict([t])[0])
    row = {text_col: t}
    for n in numeric_cols:
        row[n] = 0
    print("RF:", t, "->", model_rf.predict(pd.DataFrame([row]))[0])

# Cell 5: Predict for all dataset rows
full_X = df[[text_col] + numeric_cols].copy()
full_X[text_col] = full_X[text_col].fillna("")
full_X[numeric_cols] = full_X[numeric_cols].fillna(0)

df["predicted_risk"] = model_rf.predict(full_X)
flagged = df[df["predicted_risk"] == 1]

out_path = os.path.join(ARTIFACT_DIR, "flagged_posts.csv")
flagged.to_csv(out_path, index=False)

print(f"Exported {flagged.shape[0]} flagged posts -> {out_path}")
flagged.head()
